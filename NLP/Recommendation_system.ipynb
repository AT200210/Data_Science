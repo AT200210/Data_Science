{
  "metadata": {
    "kernelspec": {
      "language": "python",
      "display_name": "Python 3",
      "name": "python3"
    },
    "language_info": {
      "name": "python",
      "version": "3.11.11",
      "mimetype": "text/x-python",
      "codemirror_mode": {
        "name": "ipython",
        "version": 3
      },
      "pygments_lexer": "ipython3",
      "nbconvert_exporter": "python",
      "file_extension": ".py"
    },
    "kaggle": {
      "accelerator": "gpu",
      "dataSources": [
        {
          "sourceId": 5872805,
          "sourceType": "datasetVersion",
          "datasetId": 3375918
        }
      ],
      "dockerImageVersionId": 31041,
      "isInternetEnabled": true,
      "language": "python",
      "sourceType": "notebook",
      "isGpuEnabled": true
    },
    "colab": {
      "name": "Recommendation_system",
      "provenance": [],
      "include_colab_link": true
    }
  },
  "nbformat_minor": 0,
  "nbformat": 4,
  "cells": [
    {
      "cell_type": "markdown",
      "metadata": {
        "id": "view-in-github",
        "colab_type": "text"
      },
      "source": [
        "<a href=\"https://colab.research.google.com/github/AT200210/Data_Science/blob/main/NLP/Recommendation_system.ipynb\" target=\"_parent\"><img src=\"https://colab.research.google.com/assets/colab-badge.svg\" alt=\"Open In Colab\"/></a>"
      ]
    },
    {
      "source": [
        "# IMPORTANT: RUN THIS CELL IN ORDER TO IMPORT YOUR KAGGLE DATA SOURCES,\n",
        "# THEN FEEL FREE TO DELETE THIS CELL.\n",
        "# NOTE: THIS NOTEBOOK ENVIRONMENT DIFFERS FROM KAGGLE'S PYTHON\n",
        "# ENVIRONMENT SO THERE MAY BE MISSING LIBRARIES USED BY YOUR\n",
        "# NOTEBOOK.\n",
        "import kagglehub\n",
        "parasharmanas_movie_recommendation_system_path = kagglehub.dataset_download('parasharmanas/movie-recommendation-system')\n",
        "\n",
        "print('Data source import complete.')\n"
      ],
      "metadata": {
        "id": "kIgoDY6rnzfd"
      },
      "cell_type": "code",
      "outputs": [],
      "execution_count": null
    },
    {
      "cell_type": "code",
      "source": [
        "# This Python 3 environment comes with many helpful analytics libraries installed\n",
        "# It is defined by the kaggle/python Docker image: https://github.com/kaggle/docker-python\n",
        "# For example, here's several helpful packages to load\n",
        "\n",
        "import numpy as np # linear algebra\n",
        "import pandas as pd # data processing, CSV file I/O (e.g. pd.read_csv)\n",
        "\n",
        "# Input data files are available in the read-only \"../input/\" directory\n",
        "# For example, running this (by clicking run or pressing Shift+Enter) will list all files under the input directory\n",
        "\n",
        "import os\n",
        "for dirname, _, filenames in os.walk('/kaggle/input'):\n",
        "    for filename in filenames:\n",
        "        print(os.path.join(dirname, filename))\n",
        "\n",
        "# You can write up to 20GB to the current directory (/kaggle/working/) that gets preserved as output when you create a version using \"Save & Run All\"\n",
        "# You can also write temporary files to /kaggle/temp/, but they won't be saved outside of the current session"
      ],
      "metadata": {
        "_uuid": "8f2839f25d086af736a60e9eeb907d3b93b6e0e5",
        "_cell_guid": "b1076dfc-b9ad-4769-8c92-a6c4dae69d19",
        "trusted": true,
        "execution": {
          "iopub.status.busy": "2025-05-29T05:22:26.96532Z",
          "iopub.execute_input": "2025-05-29T05:22:26.965831Z",
          "iopub.status.idle": "2025-05-29T05:22:26.973393Z",
          "shell.execute_reply.started": "2025-05-29T05:22:26.965808Z",
          "shell.execute_reply": "2025-05-29T05:22:26.972787Z"
        },
        "id": "CJw61VwNnzfi",
        "outputId": "099c506e-d8b1-4989-abbf-353608516f9c"
      },
      "outputs": [
        {
          "name": "stdout",
          "text": "/kaggle/input/movie-recommendation-system/movies.csv\n/kaggle/input/movie-recommendation-system/ratings.csv\n",
          "output_type": "stream"
        }
      ],
      "execution_count": null
    },
    {
      "cell_type": "code",
      "source": [
        "import pandas as pd\n",
        "import numpy as np"
      ],
      "metadata": {
        "trusted": true,
        "execution": {
          "iopub.status.busy": "2025-05-29T05:22:26.975022Z",
          "iopub.execute_input": "2025-05-29T05:22:26.97522Z",
          "iopub.status.idle": "2025-05-29T05:22:26.984657Z",
          "shell.execute_reply.started": "2025-05-29T05:22:26.975206Z",
          "shell.execute_reply": "2025-05-29T05:22:26.984137Z"
        },
        "id": "EYAguR5ynzfl"
      },
      "outputs": [],
      "execution_count": null
    },
    {
      "cell_type": "code",
      "source": [
        "data1=pd.read_csv('/kaggle/input/movie-recommendation-system/movies.csv')"
      ],
      "metadata": {
        "trusted": true,
        "execution": {
          "iopub.status.busy": "2025-05-29T05:22:26.993031Z",
          "iopub.execute_input": "2025-05-29T05:22:26.993226Z",
          "iopub.status.idle": "2025-05-29T05:22:27.064581Z",
          "shell.execute_reply.started": "2025-05-29T05:22:26.993212Z",
          "shell.execute_reply": "2025-05-29T05:22:27.064003Z"
        },
        "id": "fmVUnI99nzfm"
      },
      "outputs": [],
      "execution_count": null
    },
    {
      "cell_type": "code",
      "source": [
        "data1"
      ],
      "metadata": {
        "trusted": true,
        "execution": {
          "iopub.status.busy": "2025-05-29T05:22:27.065699Z",
          "iopub.execute_input": "2025-05-29T05:22:27.065928Z",
          "iopub.status.idle": "2025-05-29T05:22:27.073706Z",
          "shell.execute_reply.started": "2025-05-29T05:22:27.065911Z",
          "shell.execute_reply": "2025-05-29T05:22:27.07318Z"
        },
        "id": "jHFhojEinzfn",
        "outputId": "2b9a9355-f0ef-49ec-ac52-6ef35d30c513"
      },
      "outputs": [
        {
          "execution_count": 85,
          "output_type": "execute_result",
          "data": {
            "text/plain": "       movieId                               title  \\\n0            1                    Toy Story (1995)   \n1            2                      Jumanji (1995)   \n2            3             Grumpier Old Men (1995)   \n3            4            Waiting to Exhale (1995)   \n4            5  Father of the Bride Part II (1995)   \n...        ...                                 ...   \n62418   209157                           We (2018)   \n62419   209159           Window of the Soul (2001)   \n62420   209163                    Bad Poems (2018)   \n62421   209169                 A Girl Thing (2001)   \n62422   209171      Women of Devil's Island (1962)   \n\n                                            genres  \n0      Adventure|Animation|Children|Comedy|Fantasy  \n1                       Adventure|Children|Fantasy  \n2                                   Comedy|Romance  \n3                             Comedy|Drama|Romance  \n4                                           Comedy  \n...                                            ...  \n62418                                        Drama  \n62419                                  Documentary  \n62420                                 Comedy|Drama  \n62421                           (no genres listed)  \n62422                       Action|Adventure|Drama  \n\n[62423 rows x 3 columns]",
            "text/html": "<div>\n<style scoped>\n    .dataframe tbody tr th:only-of-type {\n        vertical-align: middle;\n    }\n\n    .dataframe tbody tr th {\n        vertical-align: top;\n    }\n\n    .dataframe thead th {\n        text-align: right;\n    }\n</style>\n<table border=\"1\" class=\"dataframe\">\n  <thead>\n    <tr style=\"text-align: right;\">\n      <th></th>\n      <th>movieId</th>\n      <th>title</th>\n      <th>genres</th>\n    </tr>\n  </thead>\n  <tbody>\n    <tr>\n      <th>0</th>\n      <td>1</td>\n      <td>Toy Story (1995)</td>\n      <td>Adventure|Animation|Children|Comedy|Fantasy</td>\n    </tr>\n    <tr>\n      <th>1</th>\n      <td>2</td>\n      <td>Jumanji (1995)</td>\n      <td>Adventure|Children|Fantasy</td>\n    </tr>\n    <tr>\n      <th>2</th>\n      <td>3</td>\n      <td>Grumpier Old Men (1995)</td>\n      <td>Comedy|Romance</td>\n    </tr>\n    <tr>\n      <th>3</th>\n      <td>4</td>\n      <td>Waiting to Exhale (1995)</td>\n      <td>Comedy|Drama|Romance</td>\n    </tr>\n    <tr>\n      <th>4</th>\n      <td>5</td>\n      <td>Father of the Bride Part II (1995)</td>\n      <td>Comedy</td>\n    </tr>\n    <tr>\n      <th>...</th>\n      <td>...</td>\n      <td>...</td>\n      <td>...</td>\n    </tr>\n    <tr>\n      <th>62418</th>\n      <td>209157</td>\n      <td>We (2018)</td>\n      <td>Drama</td>\n    </tr>\n    <tr>\n      <th>62419</th>\n      <td>209159</td>\n      <td>Window of the Soul (2001)</td>\n      <td>Documentary</td>\n    </tr>\n    <tr>\n      <th>62420</th>\n      <td>209163</td>\n      <td>Bad Poems (2018)</td>\n      <td>Comedy|Drama</td>\n    </tr>\n    <tr>\n      <th>62421</th>\n      <td>209169</td>\n      <td>A Girl Thing (2001)</td>\n      <td>(no genres listed)</td>\n    </tr>\n    <tr>\n      <th>62422</th>\n      <td>209171</td>\n      <td>Women of Devil's Island (1962)</td>\n      <td>Action|Adventure|Drama</td>\n    </tr>\n  </tbody>\n</table>\n<p>62423 rows × 3 columns</p>\n</div>"
          },
          "metadata": {}
        }
      ],
      "execution_count": null
    },
    {
      "cell_type": "code",
      "source": [
        "data1.info()"
      ],
      "metadata": {
        "trusted": true,
        "execution": {
          "iopub.status.busy": "2025-05-29T05:22:27.074303Z",
          "iopub.execute_input": "2025-05-29T05:22:27.074516Z",
          "iopub.status.idle": "2025-05-29T05:22:27.096252Z",
          "shell.execute_reply.started": "2025-05-29T05:22:27.0745Z",
          "shell.execute_reply": "2025-05-29T05:22:27.09565Z"
        },
        "id": "ePol7yy5nzfo",
        "outputId": "cb349def-277e-420b-832a-758de0452522"
      },
      "outputs": [
        {
          "name": "stdout",
          "text": "<class 'pandas.core.frame.DataFrame'>\nRangeIndex: 62423 entries, 0 to 62422\nData columns (total 3 columns):\n #   Column   Non-Null Count  Dtype \n---  ------   --------------  ----- \n 0   movieId  62423 non-null  int64 \n 1   title    62423 non-null  object\n 2   genres   62423 non-null  object\ndtypes: int64(1), object(2)\nmemory usage: 1.4+ MB\n",
          "output_type": "stream"
        }
      ],
      "execution_count": null
    },
    {
      "cell_type": "code",
      "source": [
        "import re\n",
        "def clean_title(title):\n",
        "    return re.sub(\"[^a-zA-Z0-9 ]\", \"\", title)"
      ],
      "metadata": {
        "trusted": true,
        "execution": {
          "iopub.status.busy": "2025-05-29T05:22:27.097289Z",
          "iopub.execute_input": "2025-05-29T05:22:27.097518Z",
          "iopub.status.idle": "2025-05-29T05:22:27.10692Z",
          "shell.execute_reply.started": "2025-05-29T05:22:27.097494Z",
          "shell.execute_reply": "2025-05-29T05:22:27.106182Z"
        },
        "id": "MZErbAklnzfp"
      },
      "outputs": [],
      "execution_count": null
    },
    {
      "cell_type": "code",
      "source": [
        "data1['genres']=data1['genres'].str.split('|')\n",
        "\n",
        "data1['title']=data1['title'].apply(clean_title)\n",
        "\n",
        "movies_data=data1[['movieId', 'title', 'genres']]\n",
        "\n",
        "unique_genres = pd.Series([genre for genres_list in movies_data['genres'] for genre in genres_list]).unique()\n",
        "\n",
        "movies_data.head()"
      ],
      "metadata": {
        "trusted": true,
        "execution": {
          "iopub.status.busy": "2025-05-29T05:22:27.107535Z",
          "iopub.execute_input": "2025-05-29T05:22:27.107769Z",
          "iopub.status.idle": "2025-05-29T05:22:27.268949Z",
          "shell.execute_reply.started": "2025-05-29T05:22:27.107744Z",
          "shell.execute_reply": "2025-05-29T05:22:27.268361Z"
        },
        "id": "gQIim_Ktnzfq",
        "outputId": "dfd8419d-fc18-413c-a934-630d34a649a0"
      },
      "outputs": [
        {
          "execution_count": 88,
          "output_type": "execute_result",
          "data": {
            "text/plain": "   movieId                             title  \\\n0        1                    Toy Story 1995   \n1        2                      Jumanji 1995   \n2        3             Grumpier Old Men 1995   \n3        4            Waiting to Exhale 1995   \n4        5  Father of the Bride Part II 1995   \n\n                                              genres  \n0  [Adventure, Animation, Children, Comedy, Fantasy]  \n1                     [Adventure, Children, Fantasy]  \n2                                  [Comedy, Romance]  \n3                           [Comedy, Drama, Romance]  \n4                                           [Comedy]  ",
            "text/html": "<div>\n<style scoped>\n    .dataframe tbody tr th:only-of-type {\n        vertical-align: middle;\n    }\n\n    .dataframe tbody tr th {\n        vertical-align: top;\n    }\n\n    .dataframe thead th {\n        text-align: right;\n    }\n</style>\n<table border=\"1\" class=\"dataframe\">\n  <thead>\n    <tr style=\"text-align: right;\">\n      <th></th>\n      <th>movieId</th>\n      <th>title</th>\n      <th>genres</th>\n    </tr>\n  </thead>\n  <tbody>\n    <tr>\n      <th>0</th>\n      <td>1</td>\n      <td>Toy Story 1995</td>\n      <td>[Adventure, Animation, Children, Comedy, Fantasy]</td>\n    </tr>\n    <tr>\n      <th>1</th>\n      <td>2</td>\n      <td>Jumanji 1995</td>\n      <td>[Adventure, Children, Fantasy]</td>\n    </tr>\n    <tr>\n      <th>2</th>\n      <td>3</td>\n      <td>Grumpier Old Men 1995</td>\n      <td>[Comedy, Romance]</td>\n    </tr>\n    <tr>\n      <th>3</th>\n      <td>4</td>\n      <td>Waiting to Exhale 1995</td>\n      <td>[Comedy, Drama, Romance]</td>\n    </tr>\n    <tr>\n      <th>4</th>\n      <td>5</td>\n      <td>Father of the Bride Part II 1995</td>\n      <td>[Comedy]</td>\n    </tr>\n  </tbody>\n</table>\n</div>"
          },
          "metadata": {}
        }
      ],
      "execution_count": null
    },
    {
      "cell_type": "code",
      "source": [
        "unique_genres"
      ],
      "metadata": {
        "trusted": true,
        "execution": {
          "iopub.status.busy": "2025-05-29T05:22:27.270232Z",
          "iopub.execute_input": "2025-05-29T05:22:27.270436Z",
          "iopub.status.idle": "2025-05-29T05:22:27.275066Z",
          "shell.execute_reply.started": "2025-05-29T05:22:27.270422Z",
          "shell.execute_reply": "2025-05-29T05:22:27.274312Z"
        },
        "id": "yNUqFlDunzfs",
        "outputId": "6ad06f20-8f25-4dc9-c0cc-14b61ccfc9ce"
      },
      "outputs": [
        {
          "execution_count": 89,
          "output_type": "execute_result",
          "data": {
            "text/plain": "array(['Adventure', 'Animation', 'Children', 'Comedy', 'Fantasy',\n       'Romance', 'Drama', 'Action', 'Crime', 'Thriller', 'Horror',\n       'Mystery', 'Sci-Fi', 'IMAX', 'Documentary', 'War', 'Musical',\n       'Western', 'Film-Noir', '(no genres listed)'], dtype=object)"
          },
          "metadata": {}
        }
      ],
      "execution_count": null
    },
    {
      "cell_type": "code",
      "source": [
        "len(unique_genres)"
      ],
      "metadata": {
        "trusted": true,
        "execution": {
          "iopub.status.busy": "2025-05-29T05:22:27.275964Z",
          "iopub.execute_input": "2025-05-29T05:22:27.276206Z",
          "iopub.status.idle": "2025-05-29T05:22:27.286261Z",
          "shell.execute_reply.started": "2025-05-29T05:22:27.276191Z",
          "shell.execute_reply": "2025-05-29T05:22:27.285607Z"
        },
        "id": "Xtg6OrPinzft",
        "outputId": "2f681516-421f-4716-d69e-c97b955205d4"
      },
      "outputs": [
        {
          "execution_count": 90,
          "output_type": "execute_result",
          "data": {
            "text/plain": "20"
          },
          "metadata": {}
        }
      ],
      "execution_count": null
    },
    {
      "cell_type": "code",
      "source": [
        "no_genres_count=movies_data[movies_data['genres'].apply(lambda x: '(no genres listed)' in x)].shape[0]\n",
        "no_genres_count"
      ],
      "metadata": {
        "trusted": true,
        "execution": {
          "iopub.status.busy": "2025-05-29T05:22:27.287024Z",
          "iopub.execute_input": "2025-05-29T05:22:27.287196Z",
          "iopub.status.idle": "2025-05-29T05:22:27.311342Z",
          "shell.execute_reply.started": "2025-05-29T05:22:27.287183Z",
          "shell.execute_reply": "2025-05-29T05:22:27.310704Z"
        },
        "id": "jT4mr1Zrnzfu",
        "outputId": "24331046-7803-484e-d477-290eb0b8b305"
      },
      "outputs": [
        {
          "execution_count": 91,
          "output_type": "execute_result",
          "data": {
            "text/plain": "5062"
          },
          "metadata": {}
        }
      ],
      "execution_count": null
    },
    {
      "cell_type": "code",
      "source": [
        "movies_data=movies_data[~movies_data['genres'].apply(lambda x: '(no genres listed)' in x)]\n",
        "\n",
        "unique_genres = pd.Series([genre for genres_list in movies_data['genres'] for genre in genres_list]).unique()\n"
      ],
      "metadata": {
        "trusted": true,
        "execution": {
          "iopub.status.busy": "2025-05-29T05:22:27.31194Z",
          "iopub.execute_input": "2025-05-29T05:22:27.312122Z",
          "iopub.status.idle": "2025-05-29T05:22:27.349781Z",
          "shell.execute_reply.started": "2025-05-29T05:22:27.312108Z",
          "shell.execute_reply": "2025-05-29T05:22:27.349269Z"
        },
        "id": "vem1XQOFnzfu"
      },
      "outputs": [],
      "execution_count": null
    },
    {
      "cell_type": "code",
      "source": [
        "unique_genres"
      ],
      "metadata": {
        "trusted": true,
        "execution": {
          "iopub.status.busy": "2025-05-29T05:22:27.351458Z",
          "iopub.execute_input": "2025-05-29T05:22:27.351662Z",
          "iopub.status.idle": "2025-05-29T05:22:27.356183Z",
          "shell.execute_reply.started": "2025-05-29T05:22:27.351646Z",
          "shell.execute_reply": "2025-05-29T05:22:27.355515Z"
        },
        "id": "VYGy-tcPnzfv",
        "outputId": "6ed8acc3-3895-4dab-d9e1-0bb4f84b97eb"
      },
      "outputs": [
        {
          "execution_count": 93,
          "output_type": "execute_result",
          "data": {
            "text/plain": "array(['Adventure', 'Animation', 'Children', 'Comedy', 'Fantasy',\n       'Romance', 'Drama', 'Action', 'Crime', 'Thriller', 'Horror',\n       'Mystery', 'Sci-Fi', 'IMAX', 'Documentary', 'War', 'Musical',\n       'Western', 'Film-Noir'], dtype=object)"
          },
          "metadata": {}
        }
      ],
      "execution_count": null
    },
    {
      "cell_type": "code",
      "source": [
        "len(unique_genres)"
      ],
      "metadata": {
        "trusted": true,
        "execution": {
          "iopub.status.busy": "2025-05-29T05:22:27.356891Z",
          "iopub.execute_input": "2025-05-29T05:22:27.357168Z",
          "iopub.status.idle": "2025-05-29T05:22:27.368943Z",
          "shell.execute_reply.started": "2025-05-29T05:22:27.357153Z",
          "shell.execute_reply": "2025-05-29T05:22:27.368347Z"
        },
        "id": "9zgG5DXsnzfv",
        "outputId": "a03f85d9-dc0a-4e48-af7e-5bd6944f4420"
      },
      "outputs": [
        {
          "execution_count": 94,
          "output_type": "execute_result",
          "data": {
            "text/plain": "19"
          },
          "metadata": {}
        }
      ],
      "execution_count": null
    },
    {
      "cell_type": "code",
      "source": [
        "import matplotlib.pyplot as plt\n",
        "\n",
        "genre_counts=pd.Series([genre for genres_list in movies_data['genres'] for genre in genres_list]).value_counts()\n",
        "\n",
        "plt.figure(figsize=(12,6))\n",
        "genre_counts.plot(kind='bar', color='skyblue')\n",
        "plt.xlabel('Genre')\n",
        "plt.ylabel('Number of Films')"
      ],
      "metadata": {
        "trusted": true,
        "execution": {
          "iopub.status.busy": "2025-05-29T05:22:27.369535Z",
          "iopub.execute_input": "2025-05-29T05:22:27.369736Z",
          "iopub.status.idle": "2025-05-29T05:22:27.625438Z",
          "shell.execute_reply.started": "2025-05-29T05:22:27.369723Z",
          "shell.execute_reply": "2025-05-29T05:22:27.62473Z"
        },
        "id": "Sy3pP7Aunzfw",
        "outputId": "f4989db6-f0e2-4d4f-c13a-ca876e795d3c"
      },
      "outputs": [
        {
          "execution_count": 95,
          "output_type": "execute_result",
          "data": {
            "text/plain": "Text(0, 0.5, 'Number of Films')"
          },
          "metadata": {}
        },
        {
          "output_type": "display_data",
          "data": {
            "text/plain": "<Figure size 1200x600 with 1 Axes>",
            "image/png": "[encoded data removed]"
          },
          "metadata": {}
        }
      ],
      "execution_count": null
    },
    {
      "cell_type": "code",
      "source": [
        "data2=pd.read_csv('/kaggle/input/movie-recommendation-system/ratings.csv')\n",
        "data2"
      ],
      "metadata": {
        "trusted": true,
        "execution": {
          "iopub.status.busy": "2025-05-29T05:22:27.626082Z",
          "iopub.execute_input": "2025-05-29T05:22:27.626275Z",
          "iopub.status.idle": "2025-05-29T05:22:35.845968Z",
          "shell.execute_reply.started": "2025-05-29T05:22:27.62626Z",
          "shell.execute_reply": "2025-05-29T05:22:35.84531Z"
        },
        "id": "y6gPgnO9nzfw",
        "outputId": "6f35a98c-aad7-4db5-ec01-516be31d800c"
      },
      "outputs": [
        {
          "execution_count": 96,
          "output_type": "execute_result",
          "data": {
            "text/plain": "          userId  movieId  rating   timestamp\n0              1      296     5.0  1147880044\n1              1      306     3.5  1147868817\n2              1      307     5.0  1147868828\n3              1      665     5.0  1147878820\n4              1      899     3.5  1147868510\n...          ...      ...     ...         ...\n25000090  162541    50872     4.5  1240953372\n25000091  162541    55768     2.5  1240951998\n25000092  162541    56176     2.0  1240950697\n25000093  162541    58559     4.0  1240953434\n25000094  162541    63876     5.0  1240952515\n\n[25000095 rows x 4 columns]",
            "text/html": "<div>\n<style scoped>\n    .dataframe tbody tr th:only-of-type {\n        vertical-align: middle;\n    }\n\n    .dataframe tbody tr th {\n        vertical-align: top;\n    }\n\n    .dataframe thead th {\n        text-align: right;\n    }\n</style>\n<table border=\"1\" class=\"dataframe\">\n  <thead>\n    <tr style=\"text-align: right;\">\n      <th></th>\n      <th>userId</th>\n      <th>movieId</th>\n      <th>rating</th>\n      <th>timestamp</th>\n    </tr>\n  </thead>\n  <tbody>\n    <tr>\n      <th>0</th>\n      <td>1</td>\n      <td>296</td>\n      <td>5.0</td>\n      <td>1147880044</td>\n    </tr>\n    <tr>\n      <th>1</th>\n      <td>1</td>\n      <td>306</td>\n      <td>3.5</td>\n      <td>1147868817</td>\n    </tr>\n    <tr>\n      <th>2</th>\n      <td>1</td>\n      <td>307</td>\n      <td>5.0</td>\n      <td>1147868828</td>\n    </tr>\n    <tr>\n      <th>3</th>\n      <td>1</td>\n      <td>665</td>\n      <td>5.0</td>\n      <td>1147878820</td>\n    </tr>\n    <tr>\n      <th>4</th>\n      <td>1</td>\n      <td>899</td>\n      <td>3.5</td>\n      <td>1147868510</td>\n    </tr>\n    <tr>\n      <th>...</th>\n      <td>...</td>\n      <td>...</td>\n      <td>...</td>\n      <td>...</td>\n    </tr>\n    <tr>\n      <th>25000090</th>\n      <td>162541</td>\n      <td>50872</td>\n      <td>4.5</td>\n      <td>1240953372</td>\n    </tr>\n    <tr>\n      <th>25000091</th>\n      <td>162541</td>\n      <td>55768</td>\n      <td>2.5</td>\n      <td>1240951998</td>\n    </tr>\n    <tr>\n      <th>25000092</th>\n      <td>162541</td>\n      <td>56176</td>\n      <td>2.0</td>\n      <td>1240950697</td>\n    </tr>\n    <tr>\n      <th>25000093</th>\n      <td>162541</td>\n      <td>58559</td>\n      <td>4.0</td>\n      <td>1240953434</td>\n    </tr>\n    <tr>\n      <th>25000094</th>\n      <td>162541</td>\n      <td>63876</td>\n      <td>5.0</td>\n      <td>1240952515</td>\n    </tr>\n  </tbody>\n</table>\n<p>25000095 rows × 4 columns</p>\n</div>"
          },
          "metadata": {}
        }
      ],
      "execution_count": null
    },
    {
      "cell_type": "code",
      "source": [
        "ratings_data=data2.drop(['timestamp'], axis=1)\n",
        "ratings_data.head()"
      ],
      "metadata": {
        "trusted": true,
        "execution": {
          "iopub.status.busy": "2025-05-29T05:22:35.846573Z",
          "iopub.execute_input": "2025-05-29T05:22:35.846848Z",
          "iopub.status.idle": "2025-05-29T05:22:36.083777Z",
          "shell.execute_reply.started": "2025-05-29T05:22:35.846831Z",
          "shell.execute_reply": "2025-05-29T05:22:36.083189Z"
        },
        "id": "opcTaBBynzfx",
        "outputId": "f3415407-ba45-456f-e0f7-99bc40ec5b3a"
      },
      "outputs": [
        {
          "execution_count": 97,
          "output_type": "execute_result",
          "data": {
            "text/plain": "   userId  movieId  rating\n0       1      296     5.0\n1       1      306     3.5\n2       1      307     5.0\n3       1      665     5.0\n4       1      899     3.5",
            "text/html": "<div>\n<style scoped>\n    .dataframe tbody tr th:only-of-type {\n        vertical-align: middle;\n    }\n\n    .dataframe tbody tr th {\n        vertical-align: top;\n    }\n\n    .dataframe thead th {\n        text-align: right;\n    }\n</style>\n<table border=\"1\" class=\"dataframe\">\n  <thead>\n    <tr style=\"text-align: right;\">\n      <th></th>\n      <th>userId</th>\n      <th>movieId</th>\n      <th>rating</th>\n    </tr>\n  </thead>\n  <tbody>\n    <tr>\n      <th>0</th>\n      <td>1</td>\n      <td>296</td>\n      <td>5.0</td>\n    </tr>\n    <tr>\n      <th>1</th>\n      <td>1</td>\n      <td>306</td>\n      <td>3.5</td>\n    </tr>\n    <tr>\n      <th>2</th>\n      <td>1</td>\n      <td>307</td>\n      <td>5.0</td>\n    </tr>\n    <tr>\n      <th>3</th>\n      <td>1</td>\n      <td>665</td>\n      <td>5.0</td>\n    </tr>\n    <tr>\n      <th>4</th>\n      <td>1</td>\n      <td>899</td>\n      <td>3.5</td>\n    </tr>\n  </tbody>\n</table>\n</div>"
          },
          "metadata": {}
        }
      ],
      "execution_count": null
    },
    {
      "cell_type": "code",
      "source": [
        "ratings_data.isnull().sum()"
      ],
      "metadata": {
        "trusted": true,
        "execution": {
          "iopub.status.busy": "2025-05-29T05:22:36.084488Z",
          "iopub.execute_input": "2025-05-29T05:22:36.08476Z",
          "iopub.status.idle": "2025-05-29T05:22:36.235491Z",
          "shell.execute_reply.started": "2025-05-29T05:22:36.084733Z",
          "shell.execute_reply": "2025-05-29T05:22:36.234909Z"
        },
        "id": "VABijvEmnzfx",
        "outputId": "de3e5c33-8420-4fa4-e203-b76326aff998"
      },
      "outputs": [
        {
          "execution_count": 98,
          "output_type": "execute_result",
          "data": {
            "text/plain": "userId     0\nmovieId    0\nrating     0\ndtype: int64"
          },
          "metadata": {}
        }
      ],
      "execution_count": null
    },
    {
      "cell_type": "code",
      "source": [
        "ratings_data.groupby('movieId')['rating'].mean()\n"
      ],
      "metadata": {
        "trusted": true,
        "execution": {
          "iopub.status.busy": "2025-05-29T05:22:36.236206Z",
          "iopub.execute_input": "2025-05-29T05:22:36.236466Z",
          "iopub.status.idle": "2025-05-29T05:22:36.775478Z",
          "shell.execute_reply.started": "2025-05-29T05:22:36.236449Z",
          "shell.execute_reply": "2025-05-29T05:22:36.774837Z"
        },
        "id": "ULt6JGmHnzfx",
        "outputId": "8f999ce6-7bf9-4717-9fd8-62505f3f4459"
      },
      "outputs": [
        {
          "execution_count": 99,
          "output_type": "execute_result",
          "data": {
            "text/plain": "movieId\n1         3.893708\n2         3.251527\n3         3.142028\n4         2.853547\n5         3.058434\n            ...   \n209157    1.500000\n209159    3.000000\n209163    4.500000\n209169    3.000000\n209171    3.000000\nName: rating, Length: 59047, dtype: float64"
          },
          "metadata": {}
        }
      ],
      "execution_count": null
    },
    {
      "cell_type": "code",
      "source": [
        "ratings_data.groupby('userId')['rating'].mean()"
      ],
      "metadata": {
        "trusted": true,
        "execution": {
          "iopub.status.busy": "2025-05-29T05:22:36.777756Z",
          "iopub.execute_input": "2025-05-29T05:22:36.777975Z",
          "iopub.status.idle": "2025-05-29T05:22:37.296269Z",
          "shell.execute_reply.started": "2025-05-29T05:22:36.777959Z",
          "shell.execute_reply": "2025-05-29T05:22:37.29562Z"
        },
        "id": "o7YU_UbZnzfy",
        "outputId": "ef93725e-0f13-4a25-91b4-7bd0d54f2a05"
      },
      "outputs": [
        {
          "execution_count": 100,
          "output_type": "execute_result",
          "data": {
            "text/plain": "userId\n1         3.814286\n2         3.630435\n3         3.697409\n4         3.378099\n5         3.752475\n            ...   \n162537    4.039604\n162538    3.415584\n162539    4.510638\n162540    3.829545\n162541    3.365385\nName: rating, Length: 162541, dtype: float64"
          },
          "metadata": {}
        }
      ],
      "execution_count": null
    },
    {
      "cell_type": "code",
      "source": [
        "import seaborn as sns\n",
        "plt.figure(figsize=(8,6))\n",
        "\n",
        "sns.histplot(ratings_data['rating'],bins=5, kde=False, color='skyblue')\n",
        "plt.xlabel('Rating')\n",
        "plt.ylabel('Count')"
      ],
      "metadata": {
        "trusted": true,
        "execution": {
          "iopub.status.busy": "2025-05-29T05:22:37.296862Z",
          "iopub.execute_input": "2025-05-29T05:22:37.297049Z",
          "iopub.status.idle": "2025-05-29T05:22:51.170318Z",
          "shell.execute_reply.started": "2025-05-29T05:22:37.297034Z",
          "shell.execute_reply": "2025-05-29T05:22:51.169584Z"
        },
        "id": "t0-ydm8Fnzfy",
        "outputId": "97e0950c-dd6a-4f29-99e8-c130fe92d33b"
      },
      "outputs": [
        {
          "name": "stderr",
          "text": "/usr/local/lib/python3.11/dist-packages/seaborn/_oldcore.py:1119: FutureWarning: use_inf_as_na option is deprecated and will be removed in a future version. Convert inf values to NaN before operating instead.\n  with pd.option_context('mode.use_inf_as_na', True):\n",
          "output_type": "stream"
        },
        {
          "execution_count": 101,
          "output_type": "execute_result",
          "data": {
            "text/plain": "Text(0, 0.5, 'Count')"
          },
          "metadata": {}
        },
        {
          "output_type": "display_data",
          "data": {
            "text/plain": "<Figure size 800x600 with 1 Axes>",
            "image/png": "[encoded data removed]"
          },
          "metadata": {}
        }
      ],
      "execution_count": null
    },
    {
      "cell_type": "code",
      "source": [
        "combined_data=ratings_data.merge(movies_data, on='movieId')"
      ],
      "metadata": {
        "trusted": true,
        "execution": {
          "iopub.status.busy": "2025-05-29T05:22:51.171094Z",
          "iopub.execute_input": "2025-05-29T05:22:51.171448Z",
          "iopub.status.idle": "2025-05-29T05:23:00.204395Z",
          "shell.execute_reply.started": "2025-05-29T05:22:51.171418Z",
          "shell.execute_reply": "2025-05-29T05:23:00.203588Z"
        },
        "id": "cXmzgtttnzfz"
      },
      "outputs": [],
      "execution_count": null
    },
    {
      "cell_type": "code",
      "source": [
        "combined_data.head()"
      ],
      "metadata": {
        "trusted": true,
        "execution": {
          "iopub.status.busy": "2025-05-29T05:23:00.205215Z",
          "iopub.execute_input": "2025-05-29T05:23:00.205449Z",
          "iopub.status.idle": "2025-05-29T05:23:00.214798Z",
          "shell.execute_reply.started": "2025-05-29T05:23:00.205425Z",
          "shell.execute_reply": "2025-05-29T05:23:00.214184Z"
        },
        "id": "BnXBs5kinzfz",
        "outputId": "310029cb-b1c9-4dc8-c443-b68fe9d5aec7"
      },
      "outputs": [
        {
          "execution_count": 103,
          "output_type": "execute_result",
          "data": {
            "text/plain": "   userId  movieId  rating                                       title  \\\n0       1      296     5.0                           Pulp Fiction 1994   \n1       1      306     3.5  Three Colors Red Trois couleurs Rouge 1994   \n2       1      307     5.0  Three Colors Blue Trois couleurs Bleu 1993   \n3       1      665     5.0                            Underground 1995   \n4       1      899     3.5                     Singin in the Rain 1952   \n\n                             genres  \n0  [Comedy, Crime, Drama, Thriller]  \n1                           [Drama]  \n2                           [Drama]  \n3              [Comedy, Drama, War]  \n4        [Comedy, Musical, Romance]  ",
            "text/html": "<div>\n<style scoped>\n    .dataframe tbody tr th:only-of-type {\n        vertical-align: middle;\n    }\n\n    .dataframe tbody tr th {\n        vertical-align: top;\n    }\n\n    .dataframe thead th {\n        text-align: right;\n    }\n</style>\n<table border=\"1\" class=\"dataframe\">\n  <thead>\n    <tr style=\"text-align: right;\">\n      <th></th>\n      <th>userId</th>\n      <th>movieId</th>\n      <th>rating</th>\n      <th>title</th>\n      <th>genres</th>\n    </tr>\n  </thead>\n  <tbody>\n    <tr>\n      <th>0</th>\n      <td>1</td>\n      <td>296</td>\n      <td>5.0</td>\n      <td>Pulp Fiction 1994</td>\n      <td>[Comedy, Crime, Drama, Thriller]</td>\n    </tr>\n    <tr>\n      <th>1</th>\n      <td>1</td>\n      <td>306</td>\n      <td>3.5</td>\n      <td>Three Colors Red Trois couleurs Rouge 1994</td>\n      <td>[Drama]</td>\n    </tr>\n    <tr>\n      <th>2</th>\n      <td>1</td>\n      <td>307</td>\n      <td>5.0</td>\n      <td>Three Colors Blue Trois couleurs Bleu 1993</td>\n      <td>[Drama]</td>\n    </tr>\n    <tr>\n      <th>3</th>\n      <td>1</td>\n      <td>665</td>\n      <td>5.0</td>\n      <td>Underground 1995</td>\n      <td>[Comedy, Drama, War]</td>\n    </tr>\n    <tr>\n      <th>4</th>\n      <td>1</td>\n      <td>899</td>\n      <td>3.5</td>\n      <td>Singin in the Rain 1952</td>\n      <td>[Comedy, Musical, Romance]</td>\n    </tr>\n  </tbody>\n</table>\n</div>"
          },
          "metadata": {}
        }
      ],
      "execution_count": null
    },
    {
      "cell_type": "code",
      "source": [
        "avg_ratings_per_movie=combined_data.groupby('title')['rating'].mean().sort_values(ascending=False)\n",
        "avg_ratings_per_movie.head(10)"
      ],
      "metadata": {
        "trusted": true,
        "execution": {
          "iopub.status.busy": "2025-05-29T05:23:00.215544Z",
          "iopub.execute_input": "2025-05-29T05:23:00.215848Z",
          "iopub.status.idle": "2025-05-29T05:23:03.018499Z",
          "shell.execute_reply.started": "2025-05-29T05:23:00.21583Z",
          "shell.execute_reply": "2025-05-29T05:23:03.017734Z"
        },
        "id": "vpHOeymUnzf0",
        "outputId": "870b6461-961d-4371-e375-1ab29ed5d903"
      },
      "outputs": [
        {
          "execution_count": 104,
          "output_type": "execute_result",
          "data": {
            "text/plain": "title\nZum Teufel mit der Penne 1968                                          5.0\nLove Simple 2009                                                       5.0\nLove Chronicles 2003                                                   5.0\nHijacking Catastrophe 911 Fear  the Selling of American Empire 2004    5.0\nPastor Shepherd 2010                                                   5.0\nPath of Blood 2018                                                     5.0\nHorror Stories 2 2013                                                  5.0\nPeacock 2015                                                           5.0\nHide 2011                                                              5.0\nHigh Fantasy 2017                                                      5.0\nName: rating, dtype: float64"
          },
          "metadata": {}
        }
      ],
      "execution_count": null
    },
    {
      "cell_type": "code",
      "source": [
        "movie_rating_counts=combined_data.groupby('title')['rating'].count().sort_values(ascending=False)\n",
        "movie_rating_counts.head(10)"
      ],
      "metadata": {
        "trusted": true,
        "execution": {
          "iopub.status.busy": "2025-05-29T05:23:03.01925Z",
          "iopub.execute_input": "2025-05-29T05:23:03.01946Z",
          "iopub.status.idle": "2025-05-29T05:23:05.656744Z",
          "shell.execute_reply.started": "2025-05-29T05:23:03.019444Z",
          "shell.execute_reply": "2025-05-29T05:23:05.656138Z"
        },
        "id": "TBzLcWlGnzf0",
        "outputId": "54650b2e-cb6c-4026-d278-a218843008fb"
      },
      "outputs": [
        {
          "execution_count": 105,
          "output_type": "execute_result",
          "data": {
            "text/plain": "title\nForrest Gump 1994                        81491\nShawshank Redemption The 1994            81482\nPulp Fiction 1994                        79672\nSilence of the Lambs The 1991            74127\nMatrix The 1999                          72674\nStar Wars Episode IV  A New Hope 1977    68717\nJurassic Park 1993                       64144\nSchindlers List 1993                     60411\nBraveheart 1995                          59184\nFight Club 1999                          58773\nName: rating, dtype: int64"
          },
          "metadata": {}
        }
      ],
      "execution_count": null
    },
    {
      "cell_type": "code",
      "source": [
        "exploded_data=combined_data.explode('genres')\n",
        "user_per_genre=exploded_data.groupby('genres')['userId'].nunique()\n"
      ],
      "metadata": {
        "trusted": true,
        "execution": {
          "iopub.status.busy": "2025-05-29T05:23:05.657491Z",
          "iopub.execute_input": "2025-05-29T05:23:05.657771Z",
          "iopub.status.idle": "2025-05-29T05:23:26.804775Z",
          "shell.execute_reply.started": "2025-05-29T05:23:05.657742Z",
          "shell.execute_reply": "2025-05-29T05:23:26.804208Z"
        },
        "id": "3ZYZbInSnzf0"
      },
      "outputs": [],
      "execution_count": null
    },
    {
      "cell_type": "code",
      "source": [
        "user_per_genre"
      ],
      "metadata": {
        "trusted": true,
        "execution": {
          "iopub.status.busy": "2025-05-29T05:23:26.805458Z",
          "iopub.execute_input": "2025-05-29T05:23:26.805668Z",
          "iopub.status.idle": "2025-05-29T05:23:26.811136Z",
          "shell.execute_reply.started": "2025-05-29T05:23:26.805652Z",
          "shell.execute_reply": "2025-05-29T05:23:26.810505Z"
        },
        "id": "0pT28cJ5nzf1",
        "outputId": "12af0dd7-f660-4b37-bb0e-41553de258db"
      },
      "outputs": [
        {
          "execution_count": 107,
          "output_type": "execute_result",
          "data": {
            "text/plain": "genres\nAction         161975\nAdventure      161821\nAnimation      140225\nChildren       148391\nComedy         162381\nCrime          160855\nDocumentary     60393\nDrama          162519\nFantasy        156809\nFilm-Noir       67849\nHorror         141445\nIMAX           119012\nMusical        126133\nMystery        152209\nRomance        161068\nSci-Fi         160063\nThriller       161948\nWar            146905\nWestern        110037\nName: userId, dtype: int64"
          },
          "metadata": {}
        }
      ],
      "execution_count": null
    },
    {
      "cell_type": "code",
      "source": [
        "avg_rating_per_genre=exploded_data.groupby('genres')['rating'].mean().sort_values(ascending=False)\n",
        "avg_rating_per_genre"
      ],
      "metadata": {
        "trusted": true,
        "execution": {
          "iopub.status.busy": "2025-05-29T05:23:26.811736Z",
          "iopub.execute_input": "2025-05-29T05:23:26.811938Z",
          "iopub.status.idle": "2025-05-29T05:23:32.425384Z",
          "shell.execute_reply.started": "2025-05-29T05:23:26.811925Z",
          "shell.execute_reply": "2025-05-29T05:23:32.424863Z"
        },
        "id": "iqy7mGcHnzf1",
        "outputId": "80afa927-5dbb-463b-9fa5-e3a2d50715f4"
      },
      "outputs": [
        {
          "execution_count": 108,
          "output_type": "execute_result",
          "data": {
            "text/plain": "genres\nFilm-Noir      3.925728\nWar            3.791466\nDocumentary    3.705281\nCrime          3.685044\nDrama          3.677185\nMystery        3.670169\nAnimation      3.614946\nIMAX           3.603712\nWestern        3.585755\nMusical        3.554716\nRomance        3.542712\nThriller       3.522964\nAdventure      3.517445\nFantasy        3.511589\nSci-Fi         3.478143\nAction         3.466592\nChildren       3.432507\nComedy         3.423993\nHorror         3.293563\nName: rating, dtype: float64"
          },
          "metadata": {}
        }
      ],
      "execution_count": null
    },
    {
      "cell_type": "code",
      "source": [
        "top_movies_per_genre=(exploded_data.groupby(['genres','title'])['rating'].mean().reset_index().sort_values(['genres', 'rating'], ascending=[True,False]).groupby('genres').head(3))\n",
        "top_movies_per_genre"
      ],
      "metadata": {
        "trusted": true,
        "execution": {
          "iopub.status.busy": "2025-05-29T05:23:32.426141Z",
          "iopub.execute_input": "2025-05-29T05:23:32.426415Z",
          "iopub.status.idle": "2025-05-29T05:23:46.124376Z",
          "shell.execute_reply.started": "2025-05-29T05:23:32.426384Z",
          "shell.execute_reply": "2025-05-29T05:23:46.123674Z"
        },
        "id": "B_zE3N8pnzf1",
        "outputId": "5301fac6-224e-4000-9069-1a7a04828d07"
      },
      "outputs": [
        {
          "execution_count": 109,
          "output_type": "execute_result",
          "data": {
            "text/plain": "             genres                                   title    rating\n130          Action           A Police Inspector Calls 1974  5.000000\n269          Action                       Alien Rising 2013  5.000000\n280          Action              All Hell Breaks Loose 2014  5.000000\n6978      Adventure                    A Throw of Dice 1929  5.000000\n7092      Adventure               All Men Are Brothers 1975  5.000000\n7218      Adventure           Azit the Paratrooper Dog 1972  5.000000\n11336     Animation   Dashavatar  Every era has a hero 2008  5.000000\n11496     Animation              Elf Bowling the Movie 2007  5.000000\n11645     Animation            Garfield Goes Hollywood 1987  5.000000\n13732      Children                       A Gift Horse 2015  5.000000\n13921      Children                       Aschenputtel 2010  5.000000\n14141      Children            Carlos Spills the Beans 2014  5.000000\n16660        Comedy                          2nd Serve 2013  5.000000\n16814        Comedy                    A Holiday Heist 2011  5.000000\n16828        Comedy                      A Lustful Man 1961  5.000000\n32680         Crime           A Police Inspector Calls 1974  5.000000\n32767         Crime                               Alto 2015  5.000000\n32777         Crime                     American Bully 2009  5.000000\n37686   Documentary                     9 Dalmuir West 1962  5.000000\n37698   Documentary                 A Blank on the Map 1971  5.000000\n37876   Documentary                Always a Bridesmaid 2000  5.000000\n43195         Drama                                  2 2007  5.000000\n43253         Drama                          2nd Serve 2013  5.000000\n43482         Drama                        A Fine Step 2014  5.000000\n67545       Fantasy                   A Matter of Time 1976  5.000000\n67647       Fantasy           Ana Maria in Novela Land 2015  5.000000\n67684       Fantasy                       Aschenputtel 2010  5.000000\n70454     Film-Noir   Sunset Blvd aka Sunset Boulevard 1950  4.206501\n70475     Film-Noir                      Third Man The 1949  4.201487\n70268     Film-Noir                   Double Indemnity 1944  4.194023\n70712        Horror              All Hell Breaks Loose 2014  5.000000\n70976        Horror                   Beautiful People 2014  5.000000\n71041        Horror                 Bigfoot vs Zombies 2016  5.000000\n76291          IMAX                    Dark Knight The 2008  4.166538\n76340          IMAX                          Inception 2010  4.155508\n76341          IMAX                       Interstellar 2014  4.097928\n76959       Musical                    Latin Music USA 2009  5.000000\n76642       Musical           Comin Round the Mountain 1951  4.750000\n76764       Musical                 For the First Time 1959  4.500000\n77524       Mystery                  A Sisters Revenge 2013  5.000000\n77664       Mystery                       August Falls 2017  5.000000\n77770       Mystery                         Blind Turn 2012  5.000000\n80339       Romance                       9 Full Moons 2013  5.000000\n80380       Romance                    A Holiday Heist 2011  5.000000\n80394       Romance             A Love Affair of Sorts 2011  5.000000\n87557        Sci-Fi                         10000 Days 2014  5.000000\n87718        Sci-Fi                       Alien Rising 2013  5.000000\n87883        Sci-Fi                             Awaken 2013  5.000000\n91226      Thriller                  A Job to Kill For 2006  5.000000\n91244      Thriller           A Police Inspector Calls 1974  5.000000\n91253      Thriller                  A Sisters Revenge 2013  5.000000\n99796           War                   Desert Commandos 1966  5.000000\n99898           War                      Five for Hell 1969  5.000000\n99947           War  From Here To Eternity The Musical 2014  5.000000\n101192      Western  Ambush at Dark Canyon Dark Canyon 2012  5.000000\n101357      Western                   Cheyenne Warrior 1994  5.000000\n101370      Western                           Clearcut 1991  5.000000",
            "text/html": "<div>\n<style scoped>\n    .dataframe tbody tr th:only-of-type {\n        vertical-align: middle;\n    }\n\n    .dataframe tbody tr th {\n        vertical-align: top;\n    }\n\n    .dataframe thead th {\n        text-align: right;\n    }\n</style>\n<table border=\"1\" class=\"dataframe\">\n  <thead>\n    <tr style=\"text-align: right;\">\n      <th></th>\n      <th>genres</th>\n      <th>title</th>\n      <th>rating</th>\n    </tr>\n  </thead>\n  <tbody>\n    <tr>\n      <th>130</th>\n      <td>Action</td>\n      <td>A Police Inspector Calls 1974</td>\n      <td>5.000000</td>\n    </tr>\n    <tr>\n      <th>269</th>\n      <td>Action</td>\n      <td>Alien Rising 2013</td>\n      <td>5.000000</td>\n    </tr>\n    <tr>\n      <th>280</th>\n      <td>Action</td>\n      <td>All Hell Breaks Loose 2014</td>\n      <td>5.000000</td>\n    </tr>\n    <tr>\n      <th>6978</th>\n      <td>Adventure</td>\n      <td>A Throw of Dice 1929</td>\n      <td>5.000000</td>\n    </tr>\n    <tr>\n      <th>7092</th>\n      <td>Adventure</td>\n      <td>All Men Are Brothers 1975</td>\n      <td>5.000000</td>\n    </tr>\n    <tr>\n      <th>7218</th>\n      <td>Adventure</td>\n      <td>Azit the Paratrooper Dog 1972</td>\n      <td>5.000000</td>\n    </tr>\n    <tr>\n      <th>11336</th>\n      <td>Animation</td>\n      <td>Dashavatar  Every era has a hero 2008</td>\n      <td>5.000000</td>\n    </tr>\n    <tr>\n      <th>11496</th>\n      <td>Animation</td>\n      <td>Elf Bowling the Movie 2007</td>\n      <td>5.000000</td>\n    </tr>\n    <tr>\n      <th>11645</th>\n      <td>Animation</td>\n      <td>Garfield Goes Hollywood 1987</td>\n      <td>5.000000</td>\n    </tr>\n    <tr>\n      <th>13732</th>\n      <td>Children</td>\n      <td>A Gift Horse 2015</td>\n      <td>5.000000</td>\n    </tr>\n    <tr>\n      <th>13921</th>\n      <td>Children</td>\n      <td>Aschenputtel 2010</td>\n      <td>5.000000</td>\n    </tr>\n    <tr>\n      <th>14141</th>\n      <td>Children</td>\n      <td>Carlos Spills the Beans 2014</td>\n      <td>5.000000</td>\n    </tr>\n    <tr>\n      <th>16660</th>\n      <td>Comedy</td>\n      <td>2nd Serve 2013</td>\n      <td>5.000000</td>\n    </tr>\n    <tr>\n      <th>16814</th>\n      <td>Comedy</td>\n      <td>A Holiday Heist 2011</td>\n      <td>5.000000</td>\n    </tr>\n    <tr>\n      <th>16828</th>\n      <td>Comedy</td>\n      <td>A Lustful Man 1961</td>\n      <td>5.000000</td>\n    </tr>\n    <tr>\n      <th>32680</th>\n      <td>Crime</td>\n      <td>A Police Inspector Calls 1974</td>\n      <td>5.000000</td>\n    </tr>\n    <tr>\n      <th>32767</th>\n      <td>Crime</td>\n      <td>Alto 2015</td>\n      <td>5.000000</td>\n    </tr>\n    <tr>\n      <th>32777</th>\n      <td>Crime</td>\n      <td>American Bully 2009</td>\n      <td>5.000000</td>\n    </tr>\n    <tr>\n      <th>37686</th>\n      <td>Documentary</td>\n      <td>9 Dalmuir West 1962</td>\n      <td>5.000000</td>\n    </tr>\n    <tr>\n      <th>37698</th>\n      <td>Documentary</td>\n      <td>A Blank on the Map 1971</td>\n      <td>5.000000</td>\n    </tr>\n    <tr>\n      <th>37876</th>\n      <td>Documentary</td>\n      <td>Always a Bridesmaid 2000</td>\n      <td>5.000000</td>\n    </tr>\n    <tr>\n      <th>43195</th>\n      <td>Drama</td>\n      <td>2 2007</td>\n      <td>5.000000</td>\n    </tr>\n    <tr>\n      <th>43253</th>\n      <td>Drama</td>\n      <td>2nd Serve 2013</td>\n      <td>5.000000</td>\n    </tr>\n    <tr>\n      <th>43482</th>\n      <td>Drama</td>\n      <td>A Fine Step 2014</td>\n      <td>5.000000</td>\n    </tr>\n    <tr>\n      <th>67545</th>\n      <td>Fantasy</td>\n      <td>A Matter of Time 1976</td>\n      <td>5.000000</td>\n    </tr>\n    <tr>\n      <th>67647</th>\n      <td>Fantasy</td>\n      <td>Ana Maria in Novela Land 2015</td>\n      <td>5.000000</td>\n    </tr>\n    <tr>\n      <th>67684</th>\n      <td>Fantasy</td>\n      <td>Aschenputtel 2010</td>\n      <td>5.000000</td>\n    </tr>\n    <tr>\n      <th>70454</th>\n      <td>Film-Noir</td>\n      <td>Sunset Blvd aka Sunset Boulevard 1950</td>\n      <td>4.206501</td>\n    </tr>\n    <tr>\n      <th>70475</th>\n      <td>Film-Noir</td>\n      <td>Third Man The 1949</td>\n      <td>4.201487</td>\n    </tr>\n    <tr>\n      <th>70268</th>\n      <td>Film-Noir</td>\n      <td>Double Indemnity 1944</td>\n      <td>4.194023</td>\n    </tr>\n    <tr>\n      <th>70712</th>\n      <td>Horror</td>\n      <td>All Hell Breaks Loose 2014</td>\n      <td>5.000000</td>\n    </tr>\n    <tr>\n      <th>70976</th>\n      <td>Horror</td>\n      <td>Beautiful People 2014</td>\n      <td>5.000000</td>\n    </tr>\n    <tr>\n      <th>71041</th>\n      <td>Horror</td>\n      <td>Bigfoot vs Zombies 2016</td>\n      <td>5.000000</td>\n    </tr>\n    <tr>\n      <th>76291</th>\n      <td>IMAX</td>\n      <td>Dark Knight The 2008</td>\n      <td>4.166538</td>\n    </tr>\n    <tr>\n      <th>76340</th>\n      <td>IMAX</td>\n      <td>Inception 2010</td>\n      <td>4.155508</td>\n    </tr>\n    <tr>\n      <th>76341</th>\n      <td>IMAX</td>\n      <td>Interstellar 2014</td>\n      <td>4.097928</td>\n    </tr>\n    <tr>\n      <th>76959</th>\n      <td>Musical</td>\n      <td>Latin Music USA 2009</td>\n      <td>5.000000</td>\n    </tr>\n    <tr>\n      <th>76642</th>\n      <td>Musical</td>\n      <td>Comin Round the Mountain 1951</td>\n      <td>4.750000</td>\n    </tr>\n    <tr>\n      <th>76764</th>\n      <td>Musical</td>\n      <td>For the First Time 1959</td>\n      <td>4.500000</td>\n    </tr>\n    <tr>\n      <th>77524</th>\n      <td>Mystery</td>\n      <td>A Sisters Revenge 2013</td>\n      <td>5.000000</td>\n    </tr>\n    <tr>\n      <th>77664</th>\n      <td>Mystery</td>\n      <td>August Falls 2017</td>\n      <td>5.000000</td>\n    </tr>\n    <tr>\n      <th>77770</th>\n      <td>Mystery</td>\n      <td>Blind Turn 2012</td>\n      <td>5.000000</td>\n    </tr>\n    <tr>\n      <th>80339</th>\n      <td>Romance</td>\n      <td>9 Full Moons 2013</td>\n      <td>5.000000</td>\n    </tr>\n    <tr>\n      <th>80380</th>\n      <td>Romance</td>\n      <td>A Holiday Heist 2011</td>\n      <td>5.000000</td>\n    </tr>\n    <tr>\n      <th>80394</th>\n      <td>Romance</td>\n      <td>A Love Affair of Sorts 2011</td>\n      <td>5.000000</td>\n    </tr>\n    <tr>\n      <th>87557</th>\n      <td>Sci-Fi</td>\n      <td>10000 Days 2014</td>\n      <td>5.000000</td>\n    </tr>\n    <tr>\n      <th>87718</th>\n      <td>Sci-Fi</td>\n      <td>Alien Rising 2013</td>\n      <td>5.000000</td>\n    </tr>\n    <tr>\n      <th>87883</th>\n      <td>Sci-Fi</td>\n      <td>Awaken 2013</td>\n      <td>5.000000</td>\n    </tr>\n    <tr>\n      <th>91226</th>\n      <td>Thriller</td>\n      <td>A Job to Kill For 2006</td>\n      <td>5.000000</td>\n    </tr>\n    <tr>\n      <th>91244</th>\n      <td>Thriller</td>\n      <td>A Police Inspector Calls 1974</td>\n      <td>5.000000</td>\n    </tr>\n    <tr>\n      <th>91253</th>\n      <td>Thriller</td>\n      <td>A Sisters Revenge 2013</td>\n      <td>5.000000</td>\n    </tr>\n    <tr>\n      <th>99796</th>\n      <td>War</td>\n      <td>Desert Commandos 1966</td>\n      <td>5.000000</td>\n    </tr>\n    <tr>\n      <th>99898</th>\n      <td>War</td>\n      <td>Five for Hell 1969</td>\n      <td>5.000000</td>\n    </tr>\n    <tr>\n      <th>99947</th>\n      <td>War</td>\n      <td>From Here To Eternity The Musical 2014</td>\n      <td>5.000000</td>\n    </tr>\n    <tr>\n      <th>101192</th>\n      <td>Western</td>\n      <td>Ambush at Dark Canyon Dark Canyon 2012</td>\n      <td>5.000000</td>\n    </tr>\n    <tr>\n      <th>101357</th>\n      <td>Western</td>\n      <td>Cheyenne Warrior 1994</td>\n      <td>5.000000</td>\n    </tr>\n    <tr>\n      <th>101370</th>\n      <td>Western</td>\n      <td>Clearcut 1991</td>\n      <td>5.000000</td>\n    </tr>\n  </tbody>\n</table>\n</div>"
          },
          "metadata": {}
        }
      ],
      "execution_count": null
    },
    {
      "cell_type": "code",
      "source": [
        "from sklearn.feature_extraction.text import TfidfVectorizer\n",
        "from sklearn.metrics.pairwise import cosine_similarity\n",
        "\n",
        "vectorizer_title=TfidfVectorizer(ngram_range=(1,2))\n",
        "\n",
        "tfidf_title=vectorizer_title.fit_transform(movies_data['title'])\n",
        "\n",
        "def search_by_title(title):\n",
        "    title=clean_title(title)\n",
        "    query_vec=vectorizer_title.transform([title])\n",
        "    similarity=cosine_similarity(query_vec, tfidf_title).flatten()\n",
        "    indices=np.argpartition(similarity, -5)[-5:]\n",
        "    results=movies_data.iloc[indices][::-1]\n",
        "    return results\n",
        "\n",
        "movie_results=search_by_title('Fast and Furious')\n",
        "movie_results"
      ],
      "metadata": {
        "trusted": true,
        "execution": {
          "iopub.status.busy": "2025-05-29T05:23:46.125171Z",
          "iopub.execute_input": "2025-05-29T05:23:46.125617Z",
          "iopub.status.idle": "2025-05-29T05:23:47.004011Z",
          "shell.execute_reply.started": "2025-05-29T05:23:46.125595Z",
          "shell.execute_reply": "2025-05-29T05:23:47.003319Z"
        },
        "id": "BsMgGtk_nzf2",
        "outputId": "4a1eb79e-a90d-43fd-87c5-e0fcf6b00588"
      },
      "outputs": [
        {
          "execution_count": 110,
          "output_type": "execute_result",
          "data": {
            "text/plain": "       movieId                                             title  \\\n13226    67923     Fast  Furious Fast and the Furious 4 The 2009   \n4264      4369                     Fast and the Furious The 2001   \n19769   102716   Fast  Furious 6 Fast and the Furious 6 The 2013   \n6264      6383  2 Fast 2 Furious Fast and the Furious 2 The 2003   \n13528    69945                     Fast and the Furious The 1955   \n\n                                 genres  \n13226  [Action, Crime, Drama, Thriller]  \n4264          [Action, Crime, Thriller]  \n19769   [Action, Crime, Thriller, IMAX]  \n6264          [Action, Crime, Thriller]  \n13528                  [Crime, Mystery]  ",
            "text/html": "<div>\n<style scoped>\n    .dataframe tbody tr th:only-of-type {\n        vertical-align: middle;\n    }\n\n    .dataframe tbody tr th {\n        vertical-align: top;\n    }\n\n    .dataframe thead th {\n        text-align: right;\n    }\n</style>\n<table border=\"1\" class=\"dataframe\">\n  <thead>\n    <tr style=\"text-align: right;\">\n      <th></th>\n      <th>movieId</th>\n      <th>title</th>\n      <th>genres</th>\n    </tr>\n  </thead>\n  <tbody>\n    <tr>\n      <th>13226</th>\n      <td>67923</td>\n      <td>Fast  Furious Fast and the Furious 4 The 2009</td>\n      <td>[Action, Crime, Drama, Thriller]</td>\n    </tr>\n    <tr>\n      <th>4264</th>\n      <td>4369</td>\n      <td>Fast and the Furious The 2001</td>\n      <td>[Action, Crime, Thriller]</td>\n    </tr>\n    <tr>\n      <th>19769</th>\n      <td>102716</td>\n      <td>Fast  Furious 6 Fast and the Furious 6 The 2013</td>\n      <td>[Action, Crime, Thriller, IMAX]</td>\n    </tr>\n    <tr>\n      <th>6264</th>\n      <td>6383</td>\n      <td>2 Fast 2 Furious Fast and the Furious 2 The 2003</td>\n      <td>[Action, Crime, Thriller]</td>\n    </tr>\n    <tr>\n      <th>13528</th>\n      <td>69945</td>\n      <td>Fast and the Furious The 1955</td>\n      <td>[Crime, Mystery]</td>\n    </tr>\n  </tbody>\n</table>\n</div>"
          },
          "metadata": {}
        }
      ],
      "execution_count": null
    },
    {
      "cell_type": "code",
      "source": [
        "vectorizer_genre=TfidfVectorizer(ngram_range=(1,2))\n",
        "\n",
        "movies_data['genres_text']=movies_data['genres'].apply(lambda x: ' '.join(x))\n",
        "\n",
        "tfidf_genre=vectorizer_genre.fit_transform(movies_data['genres_text'])\n",
        "\n",
        "def search_by_genre(genres):\n",
        "    query_vec=vectorizer_genre.transform([genres])\n",
        "    similarity=cosine_similarity(query_vec, tfidf_genre).flatten()\n",
        "    indices=np.argpartition(similarity, -10)[-10:]\n",
        "    results=movies_data.iloc[indices][::-1]\n",
        "    return results\n",
        "\n",
        "gen='Adventure Action'\n",
        "search_by_genre(gen)"
      ],
      "metadata": {
        "trusted": true,
        "execution": {
          "iopub.status.busy": "2025-05-29T05:23:47.004778Z",
          "iopub.execute_input": "2025-05-29T05:23:47.005144Z",
          "iopub.status.idle": "2025-05-29T05:23:47.26265Z",
          "shell.execute_reply.started": "2025-05-29T05:23:47.005112Z",
          "shell.execute_reply": "2025-05-29T05:23:47.262028Z"
        },
        "id": "hhaKP3Oynzf2",
        "outputId": "b40140a6-b25b-41d8-b4f5-fb8816f06572"
      },
      "outputs": [
        {
          "execution_count": 111,
          "output_type": "execute_result",
          "data": {
            "text/plain": "       movieId                                              title  \\\n32201   140401                  The Black Shield Of Falworth 1954   \n42776   164604                                         Kicks 2016   \n29028   133007                   Temple of a Thousand Lights 1965   \n29025   133001                     The Spy Who Loved Flowers 1966   \n43085   165249                                        Bagdad 1949   \n43246   165599                                      Hayabusa 2011   \n28905   132743                              The Lost Volcano 1950   \n29032   133015                            Sandokan the Great 1963   \n28648   132169  Time Traveller The Girl Who Leapt Through Time...   \n27716   129990                                Sergeant Klems 1971   \n\n            genres genres_text  \n32201  [Adventure]   Adventure  \n42776  [Adventure]   Adventure  \n29028  [Adventure]   Adventure  \n29025  [Adventure]   Adventure  \n43085  [Adventure]   Adventure  \n43246  [Adventure]   Adventure  \n28905  [Adventure]   Adventure  \n29032  [Adventure]   Adventure  \n28648  [Adventure]   Adventure  \n27716  [Adventure]   Adventure  ",
            "text/html": "<div>\n<style scoped>\n    .dataframe tbody tr th:only-of-type {\n        vertical-align: middle;\n    }\n\n    .dataframe tbody tr th {\n        vertical-align: top;\n    }\n\n    .dataframe thead th {\n        text-align: right;\n    }\n</style>\n<table border=\"1\" class=\"dataframe\">\n  <thead>\n    <tr style=\"text-align: right;\">\n      <th></th>\n      <th>movieId</th>\n      <th>title</th>\n      <th>genres</th>\n      <th>genres_text</th>\n    </tr>\n  </thead>\n  <tbody>\n    <tr>\n      <th>32201</th>\n      <td>140401</td>\n      <td>The Black Shield Of Falworth 1954</td>\n      <td>[Adventure]</td>\n      <td>Adventure</td>\n    </tr>\n    <tr>\n      <th>42776</th>\n      <td>164604</td>\n      <td>Kicks 2016</td>\n      <td>[Adventure]</td>\n      <td>Adventure</td>\n    </tr>\n    <tr>\n      <th>29028</th>\n      <td>133007</td>\n      <td>Temple of a Thousand Lights 1965</td>\n      <td>[Adventure]</td>\n      <td>Adventure</td>\n    </tr>\n    <tr>\n      <th>29025</th>\n      <td>133001</td>\n      <td>The Spy Who Loved Flowers 1966</td>\n      <td>[Adventure]</td>\n      <td>Adventure</td>\n    </tr>\n    <tr>\n      <th>43085</th>\n      <td>165249</td>\n      <td>Bagdad 1949</td>\n      <td>[Adventure]</td>\n      <td>Adventure</td>\n    </tr>\n    <tr>\n      <th>43246</th>\n      <td>165599</td>\n      <td>Hayabusa 2011</td>\n      <td>[Adventure]</td>\n      <td>Adventure</td>\n    </tr>\n    <tr>\n      <th>28905</th>\n      <td>132743</td>\n      <td>The Lost Volcano 1950</td>\n      <td>[Adventure]</td>\n      <td>Adventure</td>\n    </tr>\n    <tr>\n      <th>29032</th>\n      <td>133015</td>\n      <td>Sandokan the Great 1963</td>\n      <td>[Adventure]</td>\n      <td>Adventure</td>\n    </tr>\n    <tr>\n      <th>28648</th>\n      <td>132169</td>\n      <td>Time Traveller The Girl Who Leapt Through Time...</td>\n      <td>[Adventure]</td>\n      <td>Adventure</td>\n    </tr>\n    <tr>\n      <th>27716</th>\n      <td>129990</td>\n      <td>Sergeant Klems 1971</td>\n      <td>[Adventure]</td>\n      <td>Adventure</td>\n    </tr>\n  </tbody>\n</table>\n</div>"
          },
          "metadata": {}
        }
      ],
      "execution_count": null
    },
    {
      "cell_type": "code",
      "source": [
        "def scores_calculator(movie_id):\n",
        "    similar_users=combined_data.loc[(combined_data['movieId']==movie_id) & (combined_data['rating']>=4), 'userId'].unique()\n",
        "    similar_user_recs=combined_data.loc[(combined_data['userId'].isin(similar_users)) & (combined_data['rating']>=4), 'movieId'].value_counts(normalize=True)\n",
        "    all_user_recs=combined_data.loc[(combined_data['userId'].isin(similar_user_recs.index)) & (combined_data['rating']>=4)]\n",
        "    all_user_recs=all_user_recs['movieId'].value_counts(normalize=True)\n",
        "    selected_genres=combined_data.loc[combined_data['movieId']==movie_id, 'genres'].iloc[0]\n",
        "    if isinstance(selected_genres, list):\n",
        "        selected_genres= \" \".join(selected_genres)\n",
        "\n",
        "    movies_with_similar_genres=search_by_genre(selected_genres)\n",
        "    similar_genre_ids=movies_with_similar_genres['movieId']\n",
        "\n",
        "    similar_user_recs.loc[similar_user_recs.index.isin(similar_genre_ids)] *= 1.5\n",
        "    all_user_recs.loc[all_user_recs.index.isin(similar_genre_ids)] *= 0.9\n",
        "\n",
        "    scores=pd.DataFrame({ 'similar': similar_user_recs,\n",
        "                        'all': all_user_recs}).fillna(0)\n",
        "\n",
        "    scores['score']=np.where(scores['all']>0, scores['similar']/scores['all'], 0)\n",
        "\n",
        "    return scores.sort_values('score', ascending=False)\n",
        "\n",
        "scores_calculator(3114)"
      ],
      "metadata": {
        "trusted": true,
        "execution": {
          "iopub.status.busy": "2025-05-29T05:38:27.021755Z",
          "iopub.execute_input": "2025-05-29T05:38:27.022015Z",
          "iopub.status.idle": "2025-05-29T05:38:27.737468Z",
          "shell.execute_reply.started": "2025-05-29T05:38:27.021995Z",
          "shell.execute_reply": "2025-05-29T05:38:27.736889Z"
        },
        "id": "TRY0Oaqznzf2",
        "outputId": "8b5bd191-f716-462f-b125-7a42ec6272e9"
      },
      "outputs": [
        {
          "execution_count": 115,
          "output_type": "execute_result",
          "data": {
            "text/plain": "              similar           all      score\nmovieId                                       \n6806     7.546276e-06  6.176858e-07  12.217013\n69324    7.546276e-06  6.176858e-07  12.217013\n25916    6.890078e-06  6.176858e-07  11.154664\n47150    6.561979e-06  6.176858e-07  10.623490\n8864     5.905781e-06  6.176858e-07   9.561141\n...               ...           ...        ...\n73339    3.280990e-07  0.000000e+00   0.000000\n141426   0.000000e+00  6.176858e-07   0.000000\n141428   1.312396e-06  0.000000e+00   0.000000\n72822    0.000000e+00  6.176858e-07   0.000000\n141513   0.000000e+00  6.176858e-07   0.000000\n\n[27715 rows x 3 columns]",
            "text/html": "<div>\n<style scoped>\n    .dataframe tbody tr th:only-of-type {\n        vertical-align: middle;\n    }\n\n    .dataframe tbody tr th {\n        vertical-align: top;\n    }\n\n    .dataframe thead th {\n        text-align: right;\n    }\n</style>\n<table border=\"1\" class=\"dataframe\">\n  <thead>\n    <tr style=\"text-align: right;\">\n      <th></th>\n      <th>similar</th>\n      <th>all</th>\n      <th>score</th>\n    </tr>\n    <tr>\n      <th>movieId</th>\n      <th></th>\n      <th></th>\n      <th></th>\n    </tr>\n  </thead>\n  <tbody>\n    <tr>\n      <th>6806</th>\n      <td>7.546276e-06</td>\n      <td>6.176858e-07</td>\n      <td>12.217013</td>\n    </tr>\n    <tr>\n      <th>69324</th>\n      <td>7.546276e-06</td>\n      <td>6.176858e-07</td>\n      <td>12.217013</td>\n    </tr>\n    <tr>\n      <th>25916</th>\n      <td>6.890078e-06</td>\n      <td>6.176858e-07</td>\n      <td>11.154664</td>\n    </tr>\n    <tr>\n      <th>47150</th>\n      <td>6.561979e-06</td>\n      <td>6.176858e-07</td>\n      <td>10.623490</td>\n    </tr>\n    <tr>\n      <th>8864</th>\n      <td>5.905781e-06</td>\n      <td>6.176858e-07</td>\n      <td>9.561141</td>\n    </tr>\n    <tr>\n      <th>...</th>\n      <td>...</td>\n      <td>...</td>\n      <td>...</td>\n    </tr>\n    <tr>\n      <th>73339</th>\n      <td>3.280990e-07</td>\n      <td>0.000000e+00</td>\n      <td>0.000000</td>\n    </tr>\n    <tr>\n      <th>141426</th>\n      <td>0.000000e+00</td>\n      <td>6.176858e-07</td>\n      <td>0.000000</td>\n    </tr>\n    <tr>\n      <th>141428</th>\n      <td>1.312396e-06</td>\n      <td>0.000000e+00</td>\n      <td>0.000000</td>\n    </tr>\n    <tr>\n      <th>72822</th>\n      <td>0.000000e+00</td>\n      <td>6.176858e-07</td>\n      <td>0.000000</td>\n    </tr>\n    <tr>\n      <th>141513</th>\n      <td>0.000000e+00</td>\n      <td>6.176858e-07</td>\n      <td>0.000000</td>\n    </tr>\n  </tbody>\n</table>\n<p>27715 rows × 3 columns</p>\n</div>"
          },
          "metadata": {}
        }
      ],
      "execution_count": null
    },
    {
      "cell_type": "code",
      "source": [
        "def recommendation_results(user_input, title=0):\n",
        "    title_candidates = search_by_title(user_input)\n",
        "    movie_id = title_candidates.iloc[title]['movieId']\n",
        "    scores = scores_calculator(movie_id)\n",
        "    results = scores.head(10).merge(movies_data, left_index=True, right_on='movieId')[['title', 'score', 'genres']]\n",
        "    resutls = results.rename(columns={'title': 'title', 'genres': 'genres'}, inplace=True)\n",
        "    return results"
      ],
      "metadata": {
        "trusted": true,
        "execution": {
          "iopub.status.busy": "2025-05-29T05:49:02.573797Z",
          "iopub.execute_input": "2025-05-29T05:49:02.574322Z",
          "iopub.status.idle": "2025-05-29T05:49:02.578925Z",
          "shell.execute_reply.started": "2025-05-29T05:49:02.574302Z",
          "shell.execute_reply": "2025-05-29T05:49:02.578232Z"
        },
        "id": "xldYs4zCnzf3"
      },
      "outputs": [],
      "execution_count": null
    },
    {
      "cell_type": "code",
      "source": [
        "user_input=input('Give a movie name:')\n",
        "print('Here are some similar movies:')\n",
        "for i in range(5):\n",
        "    print(i, search_by_title(user_input)['title'].iloc[i])\n",
        "\n"
      ],
      "metadata": {
        "trusted": true,
        "execution": {
          "iopub.status.busy": "2025-05-29T05:49:36.051425Z",
          "iopub.execute_input": "2025-05-29T05:49:36.052077Z",
          "iopub.status.idle": "2025-05-29T05:49:41.715903Z",
          "shell.execute_reply.started": "2025-05-29T05:49:36.052056Z",
          "shell.execute_reply": "2025-05-29T05:49:41.715274Z"
        },
        "id": "K18kzcWRnzf3",
        "outputId": "4e30b24e-9151-46be-e787-124aed9c02a6"
      },
      "outputs": [
        {
          "output_type": "stream",
          "name": "stdin",
          "text": "Give a movie name: Matrix\n"
        },
        {
          "name": "stdout",
          "text": "Here are some similar movies:\n0 Matrix The 1999\n1 The Living Matrix 2009\n2 Matrix of Evil 2003\n3 Matrix Reloaded The 2003\n4 Matrix Revolutions The 2003\n",
          "output_type": "stream"
        }
      ],
      "execution_count": null
    },
    {
      "cell_type": "code",
      "source": [
        "title=0\n",
        "print(\"Recommendations are as follows:\")\n",
        "recommendation_results(user_input)"
      ],
      "metadata": {
        "trusted": true,
        "execution": {
          "iopub.status.busy": "2025-05-29T05:49:44.240322Z",
          "iopub.execute_input": "2025-05-29T05:49:44.240561Z",
          "iopub.status.idle": "2025-05-29T05:49:45.149446Z",
          "shell.execute_reply.started": "2025-05-29T05:49:44.240545Z",
          "shell.execute_reply": "2025-05-29T05:49:45.14869Z"
        },
        "id": "9cYWODHBnzf4",
        "outputId": "6366148b-4ce2-42f8-8f4e-ed2810cce1f5"
      },
      "outputs": [
        {
          "name": "stdout",
          "text": "Recommendations are as follows:\n",
          "output_type": "stream"
        },
        {
          "execution_count": 127,
          "output_type": "execute_result",
          "data": {
            "text/plain": "                                                   title     score  \\\n13416            Flame and Citron Flammen  Citronen 2008  8.267093   \n8149                                        Mr 3000 2004  7.589462   \n10195                                    Baxter The 2005  7.318410   \n13934  Grave Decisions Wer frher stirbt ist lnger tot...  7.318410   \n10658                                   Deep Sea 3D 2006  6.776305   \n6869                                   Hard Way The 1991  6.776305   \n23599                                     Black Sea 2015  6.776305   \n11656                     Four Minutes Vier Minuten 2006  6.505253   \n4035                                   No Mans Land 1987  6.505253   \n6088                                 Insignificance 1985  6.234201   \n\n                               genres  \n13416            [Action, Drama, War]  \n8149                  [Comedy, Drama]  \n10195        [Comedy, Drama, Romance]  \n13934                 [Comedy, Drama]  \n10658             [Documentary, IMAX]  \n6869                 [Action, Comedy]  \n23599  [Adventure, Mystery, Thriller]  \n11656                         [Drama]  \n4035                   [Crime, Drama]  \n6088                  [Comedy, Drama]  ",
            "text/html": "<div>\n<style scoped>\n    .dataframe tbody tr th:only-of-type {\n        vertical-align: middle;\n    }\n\n    .dataframe tbody tr th {\n        vertical-align: top;\n    }\n\n    .dataframe thead th {\n        text-align: right;\n    }\n</style>\n<table border=\"1\" class=\"dataframe\">\n  <thead>\n    <tr style=\"text-align: right;\">\n      <th></th>\n      <th>title</th>\n      <th>score</th>\n      <th>genres</th>\n    </tr>\n  </thead>\n  <tbody>\n    <tr>\n      <th>13416</th>\n      <td>Flame and Citron Flammen  Citronen 2008</td>\n      <td>8.267093</td>\n      <td>[Action, Drama, War]</td>\n    </tr>\n    <tr>\n      <th>8149</th>\n      <td>Mr 3000 2004</td>\n      <td>7.589462</td>\n      <td>[Comedy, Drama]</td>\n    </tr>\n    <tr>\n      <th>10195</th>\n      <td>Baxter The 2005</td>\n      <td>7.318410</td>\n      <td>[Comedy, Drama, Romance]</td>\n    </tr>\n    <tr>\n      <th>13934</th>\n      <td>Grave Decisions Wer frher stirbt ist lnger tot...</td>\n      <td>7.318410</td>\n      <td>[Comedy, Drama]</td>\n    </tr>\n    <tr>\n      <th>10658</th>\n      <td>Deep Sea 3D 2006</td>\n      <td>6.776305</td>\n      <td>[Documentary, IMAX]</td>\n    </tr>\n    <tr>\n      <th>6869</th>\n      <td>Hard Way The 1991</td>\n      <td>6.776305</td>\n      <td>[Action, Comedy]</td>\n    </tr>\n    <tr>\n      <th>23599</th>\n      <td>Black Sea 2015</td>\n      <td>6.776305</td>\n      <td>[Adventure, Mystery, Thriller]</td>\n    </tr>\n    <tr>\n      <th>11656</th>\n      <td>Four Minutes Vier Minuten 2006</td>\n      <td>6.505253</td>\n      <td>[Drama]</td>\n    </tr>\n    <tr>\n      <th>4035</th>\n      <td>No Mans Land 1987</td>\n      <td>6.505253</td>\n      <td>[Crime, Drama]</td>\n    </tr>\n    <tr>\n      <th>6088</th>\n      <td>Insignificance 1985</td>\n      <td>6.234201</td>\n      <td>[Comedy, Drama]</td>\n    </tr>\n  </tbody>\n</table>\n</div>"
          },
          "metadata": {}
        }
      ],
      "execution_count": null
    },
    {
      "cell_type": "code",
      "source": [],
      "metadata": {
        "trusted": true,
        "id": "oKxs8uh-nzf5"
      },
      "outputs": [],
      "execution_count": null
    }
  ]
}